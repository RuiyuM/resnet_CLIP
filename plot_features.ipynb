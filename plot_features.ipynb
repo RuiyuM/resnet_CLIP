{
 "cells": [
  {
   "cell_type": "code",
   "execution_count": 7,
   "metadata": {
    "collapsed": true,
    "ExecuteTime": {
     "start_time": "2023-05-10T11:15:32.125795Z",
     "end_time": "2023-05-10T11:15:32.132776Z"
    }
   },
   "outputs": [],
   "source": [
    "import random\n",
    "import pickle\n",
    "import numpy as np\n",
    "import torch\n",
    "from matplotlib import pyplot as plt\n",
    "from sklearn.manifold import TSNE\n",
    "from torchvision import datasets, transforms\n",
    "from torch.utils.data import Dataset, DataLoader\n",
    "from torch.autograd import Variable\n",
    "import clip\n",
    "import torch.nn.functional as F\n",
    "import csv"
   ]
  },
  {
   "cell_type": "code",
   "execution_count": 8,
   "outputs": [],
   "source": [
    "class CustomCIFAR100Dataset(Dataset):\n",
    "    cifar100_dataset = None\n",
    "\n",
    "    @classmethod\n",
    "    def load_dataset(cls, root=\"./data/cifar100\", train=True, download=True, transform=None):\n",
    "        cls.cifar100_dataset = datasets.CIFAR100(root, train=train, download=download, transform=transform)\n",
    "\n",
    "    def __init__(self):\n",
    "        if CustomCIFAR100Dataset.cifar100_dataset is None:\n",
    "            raise RuntimeError(\"Dataset not loaded. Call load_dataset() before creating instances of this class.\")\n",
    "\n",
    "    def __getitem__(self, index):\n",
    "        data_point, label = CustomCIFAR100Dataset.cifar100_dataset[index]\n",
    "        return index, (data_point, label)\n",
    "\n",
    "    def __len__(self):\n",
    "        return len(CustomCIFAR100Dataset.cifar100_dataset)\n",
    "\n",
    "device = \"cuda\" if torch.cuda.is_available() else \"cpu\"\n",
    "model, preprocess = clip.load(\"ViT-B/32\", device=device)"
   ],
   "metadata": {
    "collapsed": false,
    "ExecuteTime": {
     "start_time": "2023-05-10T11:15:32.665035Z",
     "end_time": "2023-05-10T11:15:35.731618Z"
    }
   }
  },
  {
   "cell_type": "code",
   "execution_count": 9,
   "outputs": [
    {
     "name": "stdout",
     "output_type": "stream",
     "text": [
      "Files already downloaded and verified\n"
     ]
    }
   ],
   "source": [
    "crop = transforms.RandomCrop(32, padding=4)\n",
    "normalize = transforms.Normalize((0.4914, 0.4822, 0.4465), (0.2023, 0.1994, 0.2010))\n",
    "preprocess_rand = transforms.Compose([crop, transforms.RandomHorizontalFlip(), preprocess])\n",
    "CustomCIFAR100Dataset.load_dataset(transform=preprocess_rand)\n",
    "custom_cifar100_dataset = CustomCIFAR100Dataset()"
   ],
   "metadata": {
    "collapsed": false,
    "ExecuteTime": {
     "start_time": "2023-05-10T11:15:35.732615Z",
     "end_time": "2023-05-10T11:15:36.451824Z"
    }
   }
  },
  {
   "cell_type": "code",
   "execution_count": 10,
   "outputs": [
    {
     "name": "stdout",
     "output_type": "stream",
     "text": [
      "Data Loader\n"
     ]
    }
   ],
   "source": [
    "batch_size = 256\n",
    "print('Data Loader')\n",
    "data_loader = torch.utils.data.DataLoader(dataset=custom_cifar100_dataset, batch_size=batch_size, shuffle=False)\n",
    "device = \"cuda\" if torch.cuda.is_available() else \"cpu\""
   ],
   "metadata": {
    "collapsed": false,
    "ExecuteTime": {
     "start_time": "2023-05-10T11:15:36.454792Z",
     "end_time": "2023-05-10T11:15:36.466874Z"
    }
   }
  },
  {
   "cell_type": "code",
   "execution_count": 11,
   "outputs": [],
   "source": [
    "record = [[] for _ in range(100)]\n",
    "\n",
    "for batch_idx, (index, (data, labels)) in enumerate(data_loader):\n",
    "    data = data.to(device)\n",
    "    labels = labels.to(device)\n",
    "    with torch.no_grad():\n",
    "        extracted_feature = model.encode_image(data)\n",
    "    for i in range(extracted_feature.shape[0]):\n",
    "        record[labels[i]].append({'feature': extracted_feature[i].detach().cpu(), 'index': index[i]})"
   ],
   "metadata": {
    "collapsed": false,
    "ExecuteTime": {
     "start_time": "2023-05-10T11:15:36.470864Z",
     "end_time": "2023-05-10T11:17:14.470750Z"
    }
   }
  },
  {
   "cell_type": "code",
   "execution_count": null,
   "outputs": [],
   "source": [
    "total_len = sum([len(a) for a in record])\n",
    "origin_trans = torch.zeros(total_len, record[0][0]['feature'].shape[0])\n",
    "origin_label = torch.zeros(total_len).long()\n",
    "index_rec = np.zeros(total_len, dtype=int)\n",
    "cnt, lb = 0, 0\n",
    "for item in record:\n",
    "    for i in item:\n",
    "        origin_trans[cnt] = i['feature']\n",
    "        origin_label[cnt] = lb\n",
    "        index_rec[cnt] = i['index']\n",
    "        cnt += 1\n",
    "    lb += 1\n",
    "labels = np.array(origin_label)"
   ],
   "metadata": {
    "collapsed": false
   }
  },
  {
   "cell_type": "code",
   "execution_count": null,
   "outputs": [],
   "source": [
    "# Print shape of array\n",
    "tsne = TSNE(n_components=2, perplexity=300).fit_transform(origin_trans)\n",
    "\n",
    "#with open(\"labels.pkl\", \"wb\") as f:\n",
    "#    pickle.dump(labels, f)\n",
    "\n",
    "#tsne_path_name = \"tsne_extracted.pkl\"\n",
    "#with open(tsne_path_name, \"rb\") as f:\n",
    "#    tsne = pickle.load(f)\n",
    "\n",
    "# extract x and y coordinates representing the positions of the images on T-SNE plot\n",
    "tx = tsne[:, 0]\n",
    "ty = tsne[:, 1]\n",
    "\n",
    "fig, ax = plt.subplots(figsize=(10, 10))\n",
    "\n",
    "# for every class, we'll add a scatter plot separately\n",
    "\n",
    "class_name = ['apple', 'aquarium_fish', 'baby', 'bear', 'beaver', 'bed', 'bee', 'beetle', 'bicycle', 'bottle', 'bowl',\n",
    "              'boy', 'bridge', 'bus', 'butterfly', 'camel', 'can', 'castle', 'caterpillar', 'cattle', 'unknown']"
   ],
   "metadata": {
    "collapsed": false
   }
  },
  {
   "cell_type": "code",
   "execution_count": null,
   "outputs": [],
   "source": [
    "plt.scatter(tx, ty, c=labels, s=1, cmap='tab10' )\n",
    "\n",
    "# build a legend using the labels we set previously\n",
    "ax.legend(loc='best')\n",
    "\n",
    "# finally, show the plot\n",
    "plt.show()"
   ],
   "metadata": {
    "collapsed": false
   }
  }
 ],
 "metadata": {
  "kernelspec": {
   "display_name": "Python 3",
   "language": "python",
   "name": "python3"
  },
  "language_info": {
   "codemirror_mode": {
    "name": "ipython",
    "version": 2
   },
   "file_extension": ".py",
   "mimetype": "text/x-python",
   "name": "python",
   "nbconvert_exporter": "python",
   "pygments_lexer": "ipython2",
   "version": "2.7.6"
  }
 },
 "nbformat": 4,
 "nbformat_minor": 0
}
